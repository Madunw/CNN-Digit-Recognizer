import numpy as np
import keras
from keras.datasets import mnist
from keras.models import Sequential
from keras.layers import Dense
from keras.optimizers import SGD
from matplotlib import pyplot as plt

batch_size = 128
num_classes = 10
epochs = 20

# データをロードし、訓練データとテストデータに分ける
(x_train, y_train), (x_test, y_test) = mnist.load_data()
# テストデータの一部を可視化
print('テストデータの一部を可視化')
fig = plt.figure(figsize=(8,4))
for c, (image, label) in enumerate(zip(x_test[:10], y_test[:10])):
    subplot = fig.add_subplot(2,5,c+1)
    subplot.set_xticks([])
    subplot.set_yticks([])
    subplot.set_title('%d' % label)
    subplot.imshow(image, vmin=0, vmax=255, cmap=plt.cm.gray_r)
plt.show()
print()

# 入力（画像）データと出力（教師）データを一次元のベクトルに変換
x_train = x_train.reshape(60000, 784)
x_test = x_test.reshape(10000, 784)
x_train = x_train.astype('float32')
x_test = x_test.astype('float32')
# 入力データを [0,1] に正規化
x_train /= 255
x_test /= 255

print('訓練データとテストデータの個数を出力')
print(x_train.shape[0], 'train samples')
print(x_test.shape[0], 'test samples')
print()

# 教師データを one-hot encoding に変換
y_train = keras.utils.to_categorical(y_train, num_classes)
y_test = keras.utils.to_categorical(y_test, num_classes)

# 3層モデルの構成
model = Sequential()
model.add(Dense(512, activation='sigmoid', input_shape=(784,)))
model.add(Dense(num_classes, activation='softmax'))
print('構成したモデルの概要')
model.summary()
print()

model.compile(loss='categorical_crossentropy',
              optimizer=SGD(lr=0.01),
              metrics=['accuracy'])

# 学習
print('訓練中 …')
history = model.fit(x_train, y_train,
                    batch_size=batch_size,
                    epochs=epochs,
                    verbose=1,
                    validation_data=(x_test, y_test))
# 学習したモデルを評価
print()
print('テストデータに対する学習モデルの出力')
pred = model.predict(x_test[:10])
print(pred)
print()
print(np.greater(pred, 0.5).astype(np.int))
print()

# モデルの損失と精度を出力
print('モデルの損失と精度を出力')
score = model.evaluate(x_test, y_test, verbose=0)
print('Test loss:', score[0])
print('Test accuracy:', score[1])
